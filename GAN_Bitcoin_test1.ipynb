{
 "cells": [
  {
   "cell_type": "code",
   "execution_count": 1,
   "id": "5ccf11d7",
   "metadata": {
    "papermill": {
     "duration": 6.101446,
     "end_time": "2024-04-06T17:40:03.332356",
     "exception": false,
     "start_time": "2024-04-06T17:39:57.230910",
     "status": "completed"
    },
    "tags": []
   },
   "outputs": [],
   "source": [
    "import os\n",
    "import numpy as np\n",
    "import csv\n",
    "import pandas as pd\n",
    "import matplotlib.pyplot as plt\n",
    "from matplotlib.dates import DateFormatter\n",
    "import math\n",
    "import time\n",
    "import tensorflow as tf\n",
    "from tensorflow.keras.layers import Input, GRU, LSTM, Bidirectional, Dense, Flatten, Conv1D, BatchNormalization, LeakyReLU, Dropout\n",
    "from tensorflow.keras import Sequential\n",
    "from tensorflow.keras.utils import plot_model\n",
    "\n",
    "#from keras.utils.vis_utils import plot_model\n",
    "from pickle import load\n",
    "from sklearn.metrics import mean_squared_error\n",
    "from tqdm import tqdm\n",
    "import statsmodels.api as sm\n",
    "from math import sqrt\n",
    "from datetime import datetime, timedelta\n",
    "from sklearn.preprocessing import MinMaxScaler, StandardScaler\n",
    "from pickle import dump\n",
    "import unicodedata\n",
    "\n",
    "import warnings\n",
    "warnings.filterwarnings(\"ignore\")"
   ]
  },
  {
   "cell_type": "code",
   "execution_count": 2,
   "id": "c725cdc7",
   "metadata": {
    "papermill": {
     "duration": 0.167248,
     "end_time": "2024-04-06T17:40:03.512741",
     "exception": false,
     "start_time": "2024-04-06T17:40:03.345493",
     "status": "completed"
    },
    "tags": []
   },
   "outputs": [
    {
     "name": "stdout",
     "output_type": "stream",
     "text": [
      "(2193, 7)\n"
     ]
    }
   ],
   "source": [
    "#all_stocks = pd.read_csv('/kaggle/input/btc-usdt/BTC-USDT.csv')\n",
    "all_stocks = pd.read_csv('dataset.csv')\n",
    "print(all_stocks.shape)\n",
    "#all_stocks.drop(columns=[\"Unnamed: 0\"],inplace=True)\n",
    "#all_stocks.head()"
   ]
  },
  {
   "cell_type": "code",
   "execution_count": 3,
   "id": "9115c1d5",
   "metadata": {
    "papermill": {
     "duration": 0.069573,
     "end_time": "2024-04-06T17:40:03.597560",
     "exception": false,
     "start_time": "2024-04-06T17:40:03.527987",
     "status": "completed"
    },
    "tags": []
   },
   "outputs": [],
   "source": [
    "stock_df = all_stocks\n",
    "stock_df['Date'] = pd.to_datetime(stock_df['Date'])\n",
    "stock_df['Date'] = stock_df['Date'].dt.date"
   ]
  },
  {
   "cell_type": "code",
   "execution_count": 4,
   "id": "06dc2b05",
   "metadata": {
    "papermill": {
     "duration": 0.020376,
     "end_time": "2024-04-06T17:40:03.630624",
     "exception": false,
     "start_time": "2024-04-06T17:40:03.610248",
     "status": "completed"
    },
    "tags": []
   },
   "outputs": [
    {
     "name": "stdout",
     "output_type": "stream",
     "text": [
      "(2193, 7)\n"
     ]
    }
   ],
   "source": [
    "final_df = stock_df\n",
    "print(final_df.shape)"
   ]
  },
  {
   "cell_type": "code",
   "execution_count": 5,
   "id": "2cad6f5f",
   "metadata": {
    "papermill": {
     "duration": 0.028321,
     "end_time": "2024-04-06T17:40:03.671732",
     "exception": false,
     "start_time": "2024-04-06T17:40:03.643411",
     "status": "completed"
    },
    "tags": []
   },
   "outputs": [
    {
     "data": {
      "text/html": [
       "<div>\n",
       "<style scoped>\n",
       "    .dataframe tbody tr th:only-of-type {\n",
       "        vertical-align: middle;\n",
       "    }\n",
       "\n",
       "    .dataframe tbody tr th {\n",
       "        vertical-align: top;\n",
       "    }\n",
       "\n",
       "    .dataframe thead th {\n",
       "        text-align: right;\n",
       "    }\n",
       "</style>\n",
       "<table border=\"1\" class=\"dataframe\">\n",
       "  <thead>\n",
       "    <tr style=\"text-align: right;\">\n",
       "      <th></th>\n",
       "      <th>Date</th>\n",
       "      <th>Open</th>\n",
       "      <th>High</th>\n",
       "      <th>Low</th>\n",
       "      <th>Close</th>\n",
       "      <th>Adj Close</th>\n",
       "      <th>Volume</th>\n",
       "    </tr>\n",
       "  </thead>\n",
       "  <tbody>\n",
       "    <tr>\n",
       "      <th>0</th>\n",
       "      <td>2015-09-13</td>\n",
       "      <td>235.242004</td>\n",
       "      <td>235.934998</td>\n",
       "      <td>229.332001</td>\n",
       "      <td>230.511993</td>\n",
       "      <td>230.511993</td>\n",
       "      <td>18478800.0</td>\n",
       "    </tr>\n",
       "    <tr>\n",
       "      <th>1</th>\n",
       "      <td>2015-09-14</td>\n",
       "      <td>230.608994</td>\n",
       "      <td>232.440002</td>\n",
       "      <td>227.960999</td>\n",
       "      <td>230.643997</td>\n",
       "      <td>230.643997</td>\n",
       "      <td>20997800.0</td>\n",
       "    </tr>\n",
       "    <tr>\n",
       "      <th>2</th>\n",
       "      <td>2015-09-15</td>\n",
       "      <td>230.492004</td>\n",
       "      <td>259.182007</td>\n",
       "      <td>229.822006</td>\n",
       "      <td>230.304001</td>\n",
       "      <td>230.304001</td>\n",
       "      <td>19177800.0</td>\n",
       "    </tr>\n",
       "    <tr>\n",
       "      <th>3</th>\n",
       "      <td>2015-09-16</td>\n",
       "      <td>230.250000</td>\n",
       "      <td>231.214996</td>\n",
       "      <td>227.401993</td>\n",
       "      <td>229.091003</td>\n",
       "      <td>229.091003</td>\n",
       "      <td>20144200.0</td>\n",
       "    </tr>\n",
       "    <tr>\n",
       "      <th>4</th>\n",
       "      <td>2015-09-17</td>\n",
       "      <td>229.076004</td>\n",
       "      <td>230.285004</td>\n",
       "      <td>228.925995</td>\n",
       "      <td>229.809998</td>\n",
       "      <td>229.809998</td>\n",
       "      <td>18935400.0</td>\n",
       "    </tr>\n",
       "  </tbody>\n",
       "</table>\n",
       "</div>"
      ],
      "text/plain": [
       "         Date        Open        High         Low       Close   Adj Close  \\\n",
       "0  2015-09-13  235.242004  235.934998  229.332001  230.511993  230.511993   \n",
       "1  2015-09-14  230.608994  232.440002  227.960999  230.643997  230.643997   \n",
       "2  2015-09-15  230.492004  259.182007  229.822006  230.304001  230.304001   \n",
       "3  2015-09-16  230.250000  231.214996  227.401993  229.091003  229.091003   \n",
       "4  2015-09-17  229.076004  230.285004  228.925995  229.809998  229.809998   \n",
       "\n",
       "       Volume  \n",
       "0  18478800.0  \n",
       "1  20997800.0  \n",
       "2  19177800.0  \n",
       "3  20144200.0  \n",
       "4  18935400.0  "
      ]
     },
     "execution_count": 5,
     "metadata": {},
     "output_type": "execute_result"
    }
   ],
   "source": [
    "final_df.head()"
   ]
  },
  {
   "cell_type": "code",
   "execution_count": 49,
   "id": "950b574e",
   "metadata": {
    "papermill": {
     "duration": 0.361924,
     "end_time": "2024-04-06T17:40:04.046654",
     "exception": false,
     "start_time": "2024-04-06T17:40:03.684730",
     "status": "completed"
    },
    "tags": []
   },
   "outputs": [
    {
     "data": {
      "image/png": "[encoded data removed]",
      "text/plain": [
       "<Figure size 1500x800 with 1 Axes>"
      ]
     },
     "metadata": {},
     "output_type": "display_data"
    }
   ],
   "source": [
    "import matplotlib.pyplot as plt\n",
    "from matplotlib.dates import DateFormatter\n",
    "\n",
    "fig, ax = plt.subplots(figsize=(15, 8))\n",
    "ax.plot(final_df['Date'][1:151], final_df['Close'][1:151], color='#008B8B')\n",
    "ax.set(xlabel=\"Date\", ylabel=\"USDT\", title=\"Bitcoin price\")\n",
    "ax.xaxis.set_major_formatter(DateFormatter(\"%Y\"))\n",
    "plt.show()\n"
   ]
  },
  {
   "cell_type": "code",
   "execution_count": 7,
   "id": "67298c26",
   "metadata": {
    "papermill": {
     "duration": 0.026225,
     "end_time": "2024-04-06T17:40:04.088491",
     "exception": false,
     "start_time": "2024-04-06T17:40:04.062266",
     "status": "completed"
    },
    "tags": []
   },
   "outputs": [],
   "source": [
    "def get_tech_ind(data):\n",
    "    data['MA7'] = data.iloc[:,4].rolling(window=7).mean() #Close column\n",
    "    data['MA20'] = data.iloc[:,4].rolling(window=20).mean() #Close Column\n",
    "\n",
    "    data['MACD'] = data.iloc[:,4].ewm(span=26).mean() - data.iloc[:,1].ewm(span=12,adjust=False).mean()\n",
    "    #This is the difference of Closing price and Opening Price\n",
    "\n",
    "    # Create Bollinger Bands\n",
    "    data['20SD'] = data.iloc[:, 4].rolling(20).std()\n",
    "    data['upper_band'] = data['MA20'] + (data['20SD'] * 2)\n",
    "    data['lower_band'] = data['MA20'] - (data['20SD'] * 2)\n",
    "\n",
    "    # Create Exponential moving average\n",
    "    data['EMA'] = data.iloc[:,4].ewm(com=0.5).mean()\n",
    "    \n",
    "    data['target'] = data['Close'].shift(-1)\n",
    "    # Create LogMomentum\n",
    "    data['logmomentum'] = np.log(data.iloc[:,4] - 1)\n",
    "\n",
    "    return data"
   ]
  },
  {
   "cell_type": "code",
   "execution_count": 8,
   "id": "ea7c2624",
   "metadata": {
    "papermill": {
     "duration": 0.065347,
     "end_time": "2024-04-06T17:40:04.167346",
     "exception": false,
     "start_time": "2024-04-06T17:40:04.101999",
     "status": "completed"
    },
    "tags": []
   },
   "outputs": [
    {
     "data": {
      "text/html": [
       "<div>\n",
       "<style scoped>\n",
       "    .dataframe tbody tr th:only-of-type {\n",
       "        vertical-align: middle;\n",
       "    }\n",
       "\n",
       "    .dataframe tbody tr th {\n",
       "        vertical-align: top;\n",
       "    }\n",
       "\n",
       "    .dataframe thead th {\n",
       "        text-align: right;\n",
       "    }\n",
       "</style>\n",
       "<table border=\"1\" class=\"dataframe\">\n",
       "  <thead>\n",
       "    <tr style=\"text-align: right;\">\n",
       "      <th></th>\n",
       "      <th>Date</th>\n",
       "      <th>Open</th>\n",
       "      <th>High</th>\n",
       "      <th>Low</th>\n",
       "      <th>Close</th>\n",
       "      <th>Adj Close</th>\n",
       "      <th>Volume</th>\n",
       "      <th>MA7</th>\n",
       "      <th>MA20</th>\n",
       "      <th>MACD</th>\n",
       "      <th>20SD</th>\n",
       "      <th>upper_band</th>\n",
       "      <th>lower_band</th>\n",
       "      <th>EMA</th>\n",
       "      <th>target</th>\n",
       "      <th>logmomentum</th>\n",
       "    </tr>\n",
       "  </thead>\n",
       "  <tbody>\n",
       "    <tr>\n",
       "      <th>0</th>\n",
       "      <td>2015-10-03</td>\n",
       "      <td>237.201996</td>\n",
       "      <td>239.315002</td>\n",
       "      <td>236.944000</td>\n",
       "      <td>238.729996</td>\n",
       "      <td>238.729996</td>\n",
       "      <td>16482700.0</td>\n",
       "      <td>236.888284</td>\n",
       "      <td>233.28730</td>\n",
       "      <td>-0.701591</td>\n",
       "      <td>3.491067</td>\n",
       "      <td>240.269434</td>\n",
       "      <td>226.305166</td>\n",
       "      <td>238.234119</td>\n",
       "      <td>238.259003</td>\n",
       "      <td>5.471136</td>\n",
       "    </tr>\n",
       "    <tr>\n",
       "      <th>1</th>\n",
       "      <td>2015-10-04</td>\n",
       "      <td>238.531006</td>\n",
       "      <td>238.968002</td>\n",
       "      <td>237.940002</td>\n",
       "      <td>238.259003</td>\n",
       "      <td>238.259003</td>\n",
       "      <td>12999000.0</td>\n",
       "      <td>237.674284</td>\n",
       "      <td>233.66805</td>\n",
       "      <td>-0.874353</td>\n",
       "      <td>3.601131</td>\n",
       "      <td>240.870313</td>\n",
       "      <td>226.465788</td>\n",
       "      <td>238.250708</td>\n",
       "      <td>240.382996</td>\n",
       "      <td>5.469152</td>\n",
       "    </tr>\n",
       "    <tr>\n",
       "      <th>2</th>\n",
       "      <td>2015-10-05</td>\n",
       "      <td>238.147003</td>\n",
       "      <td>240.382996</td>\n",
       "      <td>237.035004</td>\n",
       "      <td>240.382996</td>\n",
       "      <td>240.382996</td>\n",
       "      <td>23335900.0</td>\n",
       "      <td>237.851569</td>\n",
       "      <td>234.17200</td>\n",
       "      <td>-0.755282</td>\n",
       "      <td>3.805046</td>\n",
       "      <td>241.782092</td>\n",
       "      <td>226.561908</td>\n",
       "      <td>239.672233</td>\n",
       "      <td>246.063004</td>\n",
       "      <td>5.478065</td>\n",
       "    </tr>\n",
       "    <tr>\n",
       "      <th>3</th>\n",
       "      <td>2015-10-06</td>\n",
       "      <td>240.363998</td>\n",
       "      <td>246.934998</td>\n",
       "      <td>240.136002</td>\n",
       "      <td>246.063004</td>\n",
       "      <td>246.063004</td>\n",
       "      <td>27535100.0</td>\n",
       "      <td>239.190999</td>\n",
       "      <td>235.02060</td>\n",
       "      <td>-0.470779</td>\n",
       "      <td>4.450110</td>\n",
       "      <td>243.920821</td>\n",
       "      <td>226.120380</td>\n",
       "      <td>243.932747</td>\n",
       "      <td>242.968994</td>\n",
       "      <td>5.501515</td>\n",
       "    </tr>\n",
       "    <tr>\n",
       "      <th>4</th>\n",
       "      <td>2015-10-07</td>\n",
       "      <td>246.169998</td>\n",
       "      <td>246.681000</td>\n",
       "      <td>242.585007</td>\n",
       "      <td>242.968994</td>\n",
       "      <td>242.968994</td>\n",
       "      <td>22999200.0</td>\n",
       "      <td>240.177998</td>\n",
       "      <td>235.67855</td>\n",
       "      <td>-1.341140</td>\n",
       "      <td>4.609114</td>\n",
       "      <td>244.896779</td>\n",
       "      <td>226.460321</td>\n",
       "      <td>243.290245</td>\n",
       "      <td>242.304001</td>\n",
       "      <td>5.488810</td>\n",
       "    </tr>\n",
       "  </tbody>\n",
       "</table>\n",
       "</div>"
      ],
      "text/plain": [
       "         Date        Open        High         Low       Close   Adj Close  \\\n",
       "0  2015-10-03  237.201996  239.315002  236.944000  238.729996  238.729996   \n",
       "1  2015-10-04  238.531006  238.968002  237.940002  238.259003  238.259003   \n",
       "2  2015-10-05  238.147003  240.382996  237.035004  240.382996  240.382996   \n",
       "3  2015-10-06  240.363998  246.934998  240.136002  246.063004  246.063004   \n",
       "4  2015-10-07  246.169998  246.681000  242.585007  242.968994  242.968994   \n",
       "\n",
       "       Volume         MA7       MA20      MACD      20SD  upper_band  \\\n",
       "0  16482700.0  236.888284  233.28730 -0.701591  3.491067  240.269434   \n",
       "1  12999000.0  237.674284  233.66805 -0.874353  3.601131  240.870313   \n",
       "2  23335900.0  237.851569  234.17200 -0.755282  3.805046  241.782092   \n",
       "3  27535100.0  239.190999  235.02060 -0.470779  4.450110  243.920821   \n",
       "4  22999200.0  240.177998  235.67855 -1.341140  4.609114  244.896779   \n",
       "\n",
       "   lower_band         EMA      target  logmomentum  \n",
       "0  226.305166  238.234119  238.259003     5.471136  \n",
       "1  226.465788  238.250708  240.382996     5.469152  \n",
       "2  226.561908  239.672233  246.063004     5.478065  \n",
       "3  226.120380  243.932747  242.968994     5.501515  \n",
       "4  226.460321  243.290245  242.304001     5.488810  "
      ]
     },
     "execution_count": 8,
     "metadata": {},
     "output_type": "execute_result"
    }
   ],
   "source": [
    "tech_df = get_tech_ind(final_df)\n",
    "dataset = tech_df.iloc[20:,:].reset_index(drop=True)\n",
    "dataset.head()"
   ]
  },
  {
   "cell_type": "code",
   "execution_count": null,
   "id": "f462d6e8",
   "metadata": {
    "papermill": {
     "duration": 0.025612,
     "end_time": "2024-04-06T17:40:04.207844",
     "exception": false,
     "start_time": "2024-04-06T17:40:04.182232",
     "status": "completed"
    },
    "tags": []
   },
   "outputs": [],
   "source": []
  },
  {
   "cell_type": "code",
   "execution_count": null,
   "id": "a4828bb8",
   "metadata": {
    "papermill": {
     "duration": 1.085436,
     "end_time": "2024-04-06T17:40:05.307310",
     "exception": false,
     "start_time": "2024-04-06T17:40:04.221874",
     "status": "completed"
    },
    "tags": []
   },
   "outputs": [],
   "source": []
  },
  {
   "cell_type": "code",
   "execution_count": 9,
   "id": "57b87355",
   "metadata": {
    "papermill": {
     "duration": 0.06168,
     "end_time": "2024-04-06T17:40:05.386616",
     "exception": false,
     "start_time": "2024-04-06T17:40:05.324936",
     "status": "completed"
    },
    "tags": []
   },
   "outputs": [
    {
     "data": {
      "text/html": [
       "<div>\n",
       "<style scoped>\n",
       "    .dataframe tbody tr th:only-of-type {\n",
       "        vertical-align: middle;\n",
       "    }\n",
       "\n",
       "    .dataframe tbody tr th {\n",
       "        vertical-align: top;\n",
       "    }\n",
       "\n",
       "    .dataframe thead th {\n",
       "        text-align: right;\n",
       "    }\n",
       "</style>\n",
       "<table border=\"1\" class=\"dataframe\">\n",
       "  <thead>\n",
       "    <tr style=\"text-align: right;\">\n",
       "      <th></th>\n",
       "      <th>Open</th>\n",
       "      <th>High</th>\n",
       "      <th>Low</th>\n",
       "      <th>Close</th>\n",
       "      <th>Adj Close</th>\n",
       "      <th>Volume</th>\n",
       "      <th>MA7</th>\n",
       "      <th>MA20</th>\n",
       "      <th>MACD</th>\n",
       "      <th>20SD</th>\n",
       "      <th>upper_band</th>\n",
       "      <th>lower_band</th>\n",
       "      <th>EMA</th>\n",
       "      <th>target</th>\n",
       "      <th>logmomentum</th>\n",
       "    </tr>\n",
       "  </thead>\n",
       "  <tbody>\n",
       "    <tr>\n",
       "      <th>0</th>\n",
       "      <td>237.201996</td>\n",
       "      <td>239.315002</td>\n",
       "      <td>236.944000</td>\n",
       "      <td>238.729996</td>\n",
       "      <td>238.729996</td>\n",
       "      <td>1.648270e+07</td>\n",
       "      <td>236.888284</td>\n",
       "      <td>233.287300</td>\n",
       "      <td>-0.701591</td>\n",
       "      <td>3.491067</td>\n",
       "      <td>240.269434</td>\n",
       "      <td>226.305166</td>\n",
       "      <td>238.234119</td>\n",
       "      <td>238.259003</td>\n",
       "      <td>5.471136</td>\n",
       "    </tr>\n",
       "    <tr>\n",
       "      <th>1</th>\n",
       "      <td>238.531006</td>\n",
       "      <td>238.968002</td>\n",
       "      <td>237.940002</td>\n",
       "      <td>238.259003</td>\n",
       "      <td>238.259003</td>\n",
       "      <td>1.299900e+07</td>\n",
       "      <td>237.674284</td>\n",
       "      <td>233.668050</td>\n",
       "      <td>-0.874353</td>\n",
       "      <td>3.601131</td>\n",
       "      <td>240.870313</td>\n",
       "      <td>226.465788</td>\n",
       "      <td>238.250708</td>\n",
       "      <td>240.382996</td>\n",
       "      <td>5.469152</td>\n",
       "    </tr>\n",
       "    <tr>\n",
       "      <th>2</th>\n",
       "      <td>238.147003</td>\n",
       "      <td>240.382996</td>\n",
       "      <td>237.035004</td>\n",
       "      <td>240.382996</td>\n",
       "      <td>240.382996</td>\n",
       "      <td>2.333590e+07</td>\n",
       "      <td>237.851569</td>\n",
       "      <td>234.172000</td>\n",
       "      <td>-0.755282</td>\n",
       "      <td>3.805046</td>\n",
       "      <td>241.782092</td>\n",
       "      <td>226.561908</td>\n",
       "      <td>239.672233</td>\n",
       "      <td>246.063004</td>\n",
       "      <td>5.478065</td>\n",
       "    </tr>\n",
       "    <tr>\n",
       "      <th>3</th>\n",
       "      <td>240.363998</td>\n",
       "      <td>246.934998</td>\n",
       "      <td>240.136002</td>\n",
       "      <td>246.063004</td>\n",
       "      <td>246.063004</td>\n",
       "      <td>2.753510e+07</td>\n",
       "      <td>239.190999</td>\n",
       "      <td>235.020600</td>\n",
       "      <td>-0.470779</td>\n",
       "      <td>4.450110</td>\n",
       "      <td>243.920821</td>\n",
       "      <td>226.120380</td>\n",
       "      <td>243.932747</td>\n",
       "      <td>242.968994</td>\n",
       "      <td>5.501515</td>\n",
       "    </tr>\n",
       "    <tr>\n",
       "      <th>4</th>\n",
       "      <td>246.169998</td>\n",
       "      <td>246.681000</td>\n",
       "      <td>242.585007</td>\n",
       "      <td>242.968994</td>\n",
       "      <td>242.968994</td>\n",
       "      <td>2.299920e+07</td>\n",
       "      <td>240.177998</td>\n",
       "      <td>235.678550</td>\n",
       "      <td>-1.341140</td>\n",
       "      <td>4.609114</td>\n",
       "      <td>244.896779</td>\n",
       "      <td>226.460321</td>\n",
       "      <td>243.290245</td>\n",
       "      <td>242.304001</td>\n",
       "      <td>5.488810</td>\n",
       "    </tr>\n",
       "    <tr>\n",
       "      <th>...</th>\n",
       "      <td>...</td>\n",
       "      <td>...</td>\n",
       "      <td>...</td>\n",
       "      <td>...</td>\n",
       "      <td>...</td>\n",
       "      <td>...</td>\n",
       "      <td>...</td>\n",
       "      <td>...</td>\n",
       "      <td>...</td>\n",
       "      <td>...</td>\n",
       "      <td>...</td>\n",
       "      <td>...</td>\n",
       "      <td>...</td>\n",
       "      <td>...</td>\n",
       "      <td>...</td>\n",
       "    </tr>\n",
       "    <tr>\n",
       "      <th>2168</th>\n",
       "      <td>45774.742188</td>\n",
       "      <td>47261.949219</td>\n",
       "      <td>45669.738281</td>\n",
       "      <td>46391.421875</td>\n",
       "      <td>46391.421875</td>\n",
       "      <td>3.867266e+10</td>\n",
       "      <td>49092.983817</td>\n",
       "      <td>48711.031445</td>\n",
       "      <td>-1205.030104</td>\n",
       "      <td>1697.536847</td>\n",
       "      <td>52106.105140</td>\n",
       "      <td>45315.957751</td>\n",
       "      <td>46568.358930</td>\n",
       "      <td>44883.910156</td>\n",
       "      <td>10.744848</td>\n",
       "    </tr>\n",
       "    <tr>\n",
       "      <th>2169</th>\n",
       "      <td>46396.664063</td>\n",
       "      <td>47031.742188</td>\n",
       "      <td>44344.484375</td>\n",
       "      <td>44883.910156</td>\n",
       "      <td>44883.910156</td>\n",
       "      <td>3.915467e+10</td>\n",
       "      <td>48358.488839</td>\n",
       "      <td>48509.952344</td>\n",
       "      <td>-1044.038137</td>\n",
       "      <td>1899.465048</td>\n",
       "      <td>52308.882439</td>\n",
       "      <td>44711.022248</td>\n",
       "      <td>45445.393081</td>\n",
       "      <td>45201.457031</td>\n",
       "      <td>10.711812</td>\n",
       "    </tr>\n",
       "    <tr>\n",
       "      <th>2170</th>\n",
       "      <td>44869.839844</td>\n",
       "      <td>45969.292969</td>\n",
       "      <td>44818.265625</td>\n",
       "      <td>45201.457031</td>\n",
       "      <td>45201.457031</td>\n",
       "      <td>3.449984e+10</td>\n",
       "      <td>47680.893415</td>\n",
       "      <td>48303.942578</td>\n",
       "      <td>-664.828295</td>\n",
       "      <td>2026.013272</td>\n",
       "      <td>52355.969121</td>\n",
       "      <td>44251.916035</td>\n",
       "      <td>45282.769048</td>\n",
       "      <td>46063.269531</td>\n",
       "      <td>10.718862</td>\n",
       "    </tr>\n",
       "    <tr>\n",
       "      <th>2171</th>\n",
       "      <td>45206.628906</td>\n",
       "      <td>46364.878906</td>\n",
       "      <td>44790.460938</td>\n",
       "      <td>46063.269531</td>\n",
       "      <td>46063.269531</td>\n",
       "      <td>2.788198e+10</td>\n",
       "      <td>46868.016183</td>\n",
       "      <td>48129.798633</td>\n",
       "      <td>-344.346801</td>\n",
       "      <td>2062.967763</td>\n",
       "      <td>52255.734158</td>\n",
       "      <td>44003.863108</td>\n",
       "      <td>45803.102703</td>\n",
       "      <td>44743.929688</td>\n",
       "      <td>10.737749</td>\n",
       "    </tr>\n",
       "    <tr>\n",
       "      <th>2172</th>\n",
       "      <td>46114.171875</td>\n",
       "      <td>46234.527344</td>\n",
       "      <td>44268.375000</td>\n",
       "      <td>44743.929688</td>\n",
       "      <td>44743.929688</td>\n",
       "      <td>3.184200e+10</td>\n",
       "      <td>45740.929687</td>\n",
       "      <td>47981.689258</td>\n",
       "      <td>-316.921718</td>\n",
       "      <td>2196.968708</td>\n",
       "      <td>52375.626674</td>\n",
       "      <td>43587.751841</td>\n",
       "      <td>45096.987360</td>\n",
       "      <td>44743.929688</td>\n",
       "      <td>10.708689</td>\n",
       "    </tr>\n",
       "  </tbody>\n",
       "</table>\n",
       "<p>2173 rows × 15 columns</p>\n",
       "</div>"
      ],
      "text/plain": [
       "              Open          High           Low         Close     Adj Close  \\\n",
       "0       237.201996    239.315002    236.944000    238.729996    238.729996   \n",
       "1       238.531006    238.968002    237.940002    238.259003    238.259003   \n",
       "2       238.147003    240.382996    237.035004    240.382996    240.382996   \n",
       "3       240.363998    246.934998    240.136002    246.063004    246.063004   \n",
       "4       246.169998    246.681000    242.585007    242.968994    242.968994   \n",
       "...            ...           ...           ...           ...           ...   \n",
       "2168  45774.742188  47261.949219  45669.738281  46391.421875  46391.421875   \n",
       "2169  46396.664063  47031.742188  44344.484375  44883.910156  44883.910156   \n",
       "2170  44869.839844  45969.292969  44818.265625  45201.457031  45201.457031   \n",
       "2171  45206.628906  46364.878906  44790.460938  46063.269531  46063.269531   \n",
       "2172  46114.171875  46234.527344  44268.375000  44743.929688  44743.929688   \n",
       "\n",
       "            Volume           MA7          MA20         MACD         20SD  \\\n",
       "0     1.648270e+07    236.888284    233.287300    -0.701591     3.491067   \n",
       "1     1.299900e+07    237.674284    233.668050    -0.874353     3.601131   \n",
       "2     2.333590e+07    237.851569    234.172000    -0.755282     3.805046   \n",
       "3     2.753510e+07    239.190999    235.020600    -0.470779     4.450110   \n",
       "4     2.299920e+07    240.177998    235.678550    -1.341140     4.609114   \n",
       "...            ...           ...           ...          ...          ...   \n",
       "2168  3.867266e+10  49092.983817  48711.031445 -1205.030104  1697.536847   \n",
       "2169  3.915467e+10  48358.488839  48509.952344 -1044.038137  1899.465048   \n",
       "2170  3.449984e+10  47680.893415  48303.942578  -664.828295  2026.013272   \n",
       "2171  2.788198e+10  46868.016183  48129.798633  -344.346801  2062.967763   \n",
       "2172  3.184200e+10  45740.929687  47981.689258  -316.921718  2196.968708   \n",
       "\n",
       "        upper_band    lower_band           EMA        target  logmomentum  \n",
       "0       240.269434    226.305166    238.234119    238.259003     5.471136  \n",
       "1       240.870313    226.465788    238.250708    240.382996     5.469152  \n",
       "2       241.782092    226.561908    239.672233    246.063004     5.478065  \n",
       "3       243.920821    226.120380    243.932747    242.968994     5.501515  \n",
       "4       244.896779    226.460321    243.290245    242.304001     5.488810  \n",
       "...            ...           ...           ...           ...          ...  \n",
       "2168  52106.105140  45315.957751  46568.358930  44883.910156    10.744848  \n",
       "2169  52308.882439  44711.022248  45445.393081  45201.457031    10.711812  \n",
       "2170  52355.969121  44251.916035  45282.769048  46063.269531    10.718862  \n",
       "2171  52255.734158  44003.863108  45803.102703  44743.929688    10.737749  \n",
       "2172  52375.626674  43587.751841  45096.987360  44743.929688    10.708689  \n",
       "\n",
       "[2173 rows x 15 columns]"
      ]
     },
     "execution_count": 9,
     "metadata": {},
     "output_type": "execute_result"
    }
   ],
   "source": [
    "dataset.iloc[:, 1:] = pd.concat([dataset.iloc[:, 1:].ffill()])\n",
    "dataset.iloc[:, 1:]"
   ]
  },
  {
   "cell_type": "code",
   "execution_count": 10,
   "id": "b3c17d56",
   "metadata": {
    "papermill": {
     "duration": 0.10595,
     "end_time": "2024-04-06T17:40:05.510574",
     "exception": false,
     "start_time": "2024-04-06T17:40:05.404624",
     "status": "completed"
    },
    "tags": []
   },
   "outputs": [],
   "source": [
    "datetime_series = pd.to_datetime(dataset['Date'])\n",
    "datetime_index = pd.DatetimeIndex(datetime_series.values)\n",
    "dataset = dataset.set_index(datetime_index)\n",
    "dataset = dataset.sort_values(by='Date')\n",
    "dataset = dataset.drop(columns='Date')"
   ]
  },
  {
   "cell_type": "code",
   "execution_count": 11,
   "id": "4d046465",
   "metadata": {
    "papermill": {
     "duration": 0.02788,
     "end_time": "2024-04-06T17:40:05.556530",
     "exception": false,
     "start_time": "2024-04-06T17:40:05.528650",
     "status": "completed"
    },
    "tags": []
   },
   "outputs": [],
   "source": [
    "def normalize_data(df, range, target_column):\n",
    "\n",
    "    target_df_series = pd.DataFrame(df[target_column])\n",
    "    data = pd.DataFrame(df.iloc[:, :])\n",
    "    data.drop(columns=[\"target\"])\n",
    "    X_scaler = StandardScaler()#feature_range=range\n",
    "    y_scaler = StandardScaler()#feature_range=range\n",
    "    X_scaler.fit(data)\n",
    "    y_scaler.fit(target_df_series)\n",
    "\n",
    "    X_scale_dataset = X_scaler.fit_transform(data)\n",
    "    y_scale_dataset = y_scaler.fit_transform(target_df_series)\n",
    "    \n",
    "    dump(X_scaler, open('X_scaler.pkl', 'wb'))\n",
    "    dump(y_scaler, open('y_scaler.pkl', 'wb'))\n",
    "\n",
    "    return (X_scale_dataset,y_scale_dataset)"
   ]
  },
  {
   "cell_type": "code",
   "execution_count": 12,
   "id": "f2df9c68",
   "metadata": {
    "papermill": {
     "duration": 0.028354,
     "end_time": "2024-04-06T17:40:05.602491",
     "exception": false,
     "start_time": "2024-04-06T17:40:05.574137",
     "status": "completed"
    },
    "tags": []
   },
   "outputs": [],
   "source": [
    "def batch_data(x_data,y_data, batch_size, predict_period):\n",
    "    X_batched, y_batched, yc = list(), list(), list()\n",
    "\n",
    "    for i in range(0,len(x_data),1):\n",
    "        x_value = x_data[i: i + batch_size][:, :]\n",
    "        y_value = y_data[i + batch_size: i + batch_size + predict_period][:, 0]\n",
    "        yc_value = y_data[i: i + batch_size][:, :]\n",
    "        if len(x_value) == batch_size and len(y_value) == predict_period:\n",
    "            X_batched.append(x_value)\n",
    "            y_batched.append(y_value)\n",
    "            yc.append(yc_value)\n",
    "\n",
    "    return np.array(X_batched), np.array(y_batched), np.array(yc)"
   ]
  },
  {
   "cell_type": "code",
   "execution_count": 13,
   "id": "8b1a62dc",
   "metadata": {
    "papermill": {
     "duration": 0.025727,
     "end_time": "2024-04-06T17:40:05.645774",
     "exception": false,
     "start_time": "2024-04-06T17:40:05.620047",
     "status": "completed"
    },
    "tags": []
   },
   "outputs": [],
   "source": [
    "def split_train_test(data):\n",
    "    train_size = int(len(data) * 0.8)\n",
    "    data_train = data[0:train_size]\n",
    "    data_test = data[train_size:]\n",
    "    return data_train, data_test"
   ]
  },
  {
   "cell_type": "code",
   "execution_count": 14,
   "id": "6bc5d9c5",
   "metadata": {
    "papermill": {
     "duration": 0.025764,
     "end_time": "2024-04-06T17:40:05.689533",
     "exception": false,
     "start_time": "2024-04-06T17:40:05.663769",
     "status": "completed"
    },
    "tags": []
   },
   "outputs": [],
   "source": [
    "def predict_index(dataset, X_train, batch_size, prediction_period):\n",
    "\n",
    "    # get the predict data (remove the in_steps days)\n",
    "    train_predict_index = dataset.iloc[batch_size: X_train.shape[0] + batch_size + prediction_period, :].index\n",
    "    test_predict_index = dataset.iloc[X_train.shape[0] + batch_size:, :].index\n",
    "\n",
    "    return train_predict_index, test_predict_index"
   ]
  },
  {
   "cell_type": "code",
   "execution_count": 15,
   "id": "246750bd",
   "metadata": {
    "papermill": {
     "duration": 0.366142,
     "end_time": "2024-04-06T17:40:06.073113",
     "exception": false,
     "start_time": "2024-04-06T17:40:05.706971",
     "status": "completed"
    },
    "tags": []
   },
   "outputs": [
    {
     "name": "stdout",
     "output_type": "stream",
     "text": [
      "X shape: (2168, 5, 15)\n",
      "y shape: (2168, 1)\n",
      "yc shape: (2168, 5, 1)\n"
     ]
    }
   ],
   "source": [
    "X_scale_dataset,y_scale_dataset = normalize_data(dataset, (0,1), \"Close\")\n",
    "X_batched, y_batched, yc = batch_data(X_scale_dataset, y_scale_dataset, batch_size = 5, predict_period = 1)\n",
    "print(\"X shape:\", X_batched.shape)\n",
    "print(\"y shape:\", y_batched.shape)\n",
    "print(\"yc shape:\", yc.shape)\n",
    "\n",
    "X_train, X_test, = split_train_test(X_batched)\n",
    "y_train, y_test, = split_train_test(y_batched)\n",
    "yc_train, yc_test, = split_train_test(yc)\n",
    "index_train, index_test, = predict_index(dataset, X_train, 5, 1)"
   ]
  },
  {
   "cell_type": "code",
   "execution_count": 16,
   "id": "2b480c04",
   "metadata": {
    "papermill": {
     "duration": 0.033755,
     "end_time": "2024-04-06T17:40:06.130451",
     "exception": false,
     "start_time": "2024-04-06T17:40:06.096696",
     "status": "completed"
    },
    "tags": []
   },
   "outputs": [],
   "source": [
    "input_dim = X_train.shape[1] \n",
    "feature_size = X_train.shape[2] \n",
    "output_dim = y_train.shape[1]"
   ]
  },
  {
   "cell_type": "code",
   "execution_count": 17,
   "id": "b6c19b7d",
   "metadata": {
    "papermill": {
     "duration": 0.028313,
     "end_time": "2024-04-06T17:40:06.178872",
     "exception": false,
     "start_time": "2024-04-06T17:40:06.150559",
     "status": "completed"
    },
    "tags": []
   },
   "outputs": [],
   "source": [
    "def make_generator_model(input_dim, output_dim, feature_size):\n",
    "    model = tf.keras.Sequential([\n",
    "        Input(shape=(input_dim, feature_size)),\n",
    "        LSTM(units = 50, return_sequences = True),\n",
    "        Dropout(0.2),\n",
    "        LSTM(units = 60, activation = 'relu', return_sequences = True),\n",
    "        Dropout(0.3),\n",
    "        LSTM(units = 80, activation = 'relu', return_sequences = True),\n",
    "        Dropout(0.4),\n",
    "        LSTM(units = 120, activation = 'relu'),\n",
    "        Dropout(0.5),\n",
    "        Dense(units=output_dim)])\n",
    "    return model"
   ]
  },
  {
   "cell_type": "code",
   "execution_count": 18,
   "id": "e1b767fa",
   "metadata": {
    "papermill": {
     "duration": 0.031128,
     "end_time": "2024-04-06T17:40:06.228201",
     "exception": false,
     "start_time": "2024-04-06T17:40:06.197073",
     "status": "completed"
    },
    "tags": []
   },
   "outputs": [],
   "source": [
    "def make_discriminator_model(input_dim):\n",
    "    cnn_net = tf.keras.Sequential()\n",
    "    cnn_net.add(Conv1D(8, input_shape=(input_dim+1, 1), kernel_size=3, strides=2, padding='same', activation=LeakyReLU(alpha=0.01)))\n",
    "    cnn_net.add(Conv1D(16, kernel_size=3, strides=2, padding='same', activation=LeakyReLU(alpha=0.01)))\n",
    "    cnn_net.add(Conv1D(32, kernel_size=3, strides=2, padding='same', activation=LeakyReLU(alpha=0.01)))\n",
    "    cnn_net.add(Conv1D(64, kernel_size=3, strides=2, padding='same', activation=LeakyReLU(alpha=0.01)))\n",
    "    cnn_net.add(Conv1D(128, kernel_size=1, strides=2, padding='same', activation=LeakyReLU(alpha=0.01)))\n",
    "    #cnn_net.add(Flatten())\n",
    "    cnn_net.add(LeakyReLU())\n",
    "    cnn_net.add(Dense(220, use_bias=False))\n",
    "    cnn_net.add(LeakyReLU())\n",
    "    cnn_net.add(Dense(220, use_bias=False, activation='relu'))\n",
    "    cnn_net.add(Dense(1, activation='sigmoid'))\n",
    "    return cnn_net"
   ]
  },
  {
   "cell_type": "code",
   "execution_count": 19,
   "id": "eff736fc",
   "metadata": {
    "papermill": {
     "duration": 0.026526,
     "end_time": "2024-04-06T17:40:06.272367",
     "exception": false,
     "start_time": "2024-04-06T17:40:06.245841",
     "status": "completed"
    },
    "tags": []
   },
   "outputs": [],
   "source": [
    "def discriminator_loss(real_output, fake_output):\n",
    "    loss_f = tf.keras.losses.BinaryCrossentropy(from_logits=True)\n",
    "    real_loss = loss_f(tf.ones_like(real_output), real_output)\n",
    "    fake_loss = loss_f(tf.zeros_like(fake_output), fake_output)\n",
    "    total_loss = real_loss + fake_loss\n",
    "    return total_loss\n",
    "\n",
    "def generator_loss(fake_output):\n",
    "    loss_f = tf.keras.losses.BinaryCrossentropy(from_logits=True)\n",
    "    loss = loss_f(tf.ones_like(fake_output), fake_output)\n",
    "    return loss"
   ]
  },
  {
   "cell_type": "code",
   "execution_count": 20,
   "id": "344816b7",
   "metadata": {
    "papermill": {
     "duration": 0.030637,
     "end_time": "2024-04-06T17:40:06.320581",
     "exception": false,
     "start_time": "2024-04-06T17:40:06.289944",
     "status": "completed"
    },
    "tags": []
   },
   "outputs": [],
   "source": [
    "@tf.function\n",
    "\n",
    "def train_step(real_x, real_y, yc, generator, discriminator, g_optimizer, d_optimizer):\n",
    "    with tf.GradientTape() as gen_tape, tf.GradientTape() as disc_tape:\n",
    "        generated_data = generator(real_x, training=True)\n",
    "        generated_data_reshape = tf.reshape(generated_data, [generated_data.shape[0], generated_data.shape[1], 1])\n",
    "        d_fake_input = tf.concat([tf.cast(generated_data_reshape, tf.float64), yc], axis=1)\n",
    "        real_y_reshape = tf.reshape(real_y, [real_y.shape[0], real_y.shape[1], 1])\n",
    "        d_real_input = tf.concat([real_y_reshape, yc], axis=1)\n",
    "\n",
    "        real_output = discriminator(d_real_input, training=True)\n",
    "        fake_output = discriminator(d_fake_input, training=True)\n",
    "\n",
    "        g_loss = generator_loss(fake_output)\n",
    "        disc_loss = discriminator_loss(real_output, fake_output)\n",
    "\n",
    "    gradients_of_generator = gen_tape.gradient(g_loss, generator.trainable_variables)\n",
    "    gradients_of_discriminator = disc_tape.gradient(disc_loss, discriminator.trainable_variables)\n",
    "\n",
    "    g_optimizer.apply_gradients(zip(gradients_of_generator, generator.trainable_variables))\n",
    "    d_optimizer.apply_gradients(zip(gradients_of_discriminator, discriminator.trainable_variables))\n",
    "\n",
    "    return real_y, generated_data, {'d_loss': disc_loss, 'g_loss': g_loss}"
   ]
  },
  {
   "cell_type": "code",
   "execution_count": 21,
   "id": "d39a3242",
   "metadata": {
    "papermill": {
     "duration": 0.034926,
     "end_time": "2024-04-06T17:40:06.375103",
     "exception": false,
     "start_time": "2024-04-06T17:40:06.340177",
     "status": "completed"
    },
    "tags": []
   },
   "outputs": [],
   "source": [
    "def train(real_x, real_y, yc, Epochs, generator, discriminator, g_optimizer, d_optimizer, checkpoint = 50):\n",
    "    train_info = {}\n",
    "    train_info[\"discriminator_loss\"] = []\n",
    "    train_info[\"generator_loss\"] = []\n",
    "\n",
    "    for epoch in tqdm(range(Epochs)):\n",
    "        real_price, fake_price, loss = train_step(real_x, real_y, yc, generator, discriminator, g_optimizer, d_optimizer)\n",
    "        G_losses = []\n",
    "        D_losses = []\n",
    "        Real_price = []\n",
    "        Predicted_price = []\n",
    "        D_losses.append(loss['d_loss'].numpy())\n",
    "        G_losses.append(loss['g_loss'].numpy())\n",
    "        Predicted_price.append(fake_price.numpy())\n",
    "        Real_price.append(real_price.numpy())\n",
    "\n",
    "        #Save model every X checkpoints\n",
    "        if (epoch + 1) % checkpoint == 0:\n",
    "            tf.keras.models.save_model(generator, f'./models_gan/bitcoin/generator_V_%d.h5' % epoch)\n",
    "            tf.keras.models.save_model(discriminator, f'./models_gan/bitcoin/discriminator_V_%d.h5' % epoch)\n",
    "            print('epoch', epoch + 1, 'discriminator_loss', loss['d_loss'].numpy(), 'generator_loss', loss['g_loss'].numpy())\n",
    "    \n",
    "        train_info[\"discriminator_loss\"].append(D_losses)\n",
    "        train_info[\"generator_loss\"].append(G_losses)\n",
    "  \n",
    "    Predicted_price = np.array(Predicted_price)\n",
    "    Predicted_price = Predicted_price.reshape(Predicted_price.shape[1], Predicted_price.shape[2])\n",
    "    Real_price = np.array(Real_price)\n",
    "    Real_price = Real_price.reshape(Real_price.shape[1], Real_price.shape[2])\n",
    "\n",
    "    plt.subplot(2,1,1)\n",
    "    plt.plot(train_info[\"discriminator_loss\"], label='Disc_loss', color='#000000')\n",
    "    plt.xlabel('Epoch')\n",
    "    plt.ylabel('Discriminator Loss')\n",
    "    plt.legend()\n",
    "\n",
    "    plt.subplot(2,1,2)\n",
    "    plt.plot(train_info[\"generator_loss\"], label='Gen_loss', color='#000000')\n",
    "    plt.xlabel('Epoch')\n",
    "    plt.ylabel('Generator Loss')\n",
    "    plt.legend()\n",
    "\n",
    "    plt.show()\n",
    "\n",
    "    return Predicted_price, Real_price, np.sqrt(mean_squared_error(Real_price, Predicted_price)) / np.mean(Real_price)"
   ]
  },
  {
   "cell_type": "code",
   "execution_count": 22,
   "id": "ae756b32",
   "metadata": {
    "papermill": {
     "duration": 0.033435,
     "end_time": "2024-04-06T17:40:06.426214",
     "exception": false,
     "start_time": "2024-04-06T17:40:06.392779",
     "status": "completed"
    },
    "tags": []
   },
   "outputs": [],
   "source": [
    "def plot_results(Real_price, Predicted_price, index_train):\n",
    "    X_scaler = load(open('/content/X_scaler.pkl', 'rb'))\n",
    "    y_scaler = load(open('/content/y_scaler.pkl', 'rb'))\n",
    "    train_predict_index = index_train\n",
    "\n",
    "    rescaled_Real_price = y_scaler.inverse_transform(Real_price)\n",
    "    rescaled_Predicted_price = y_scaler.inverse_transform(Predicted_price)\n",
    "\n",
    "    predict_result = pd.DataFrame()\n",
    "    for i in range(rescaled_Predicted_price.shape[0]):\n",
    "        y_predict = pd.DataFrame(rescaled_Predicted_price[i], columns=[\"predicted_price\"], index=train_predict_index[i:i+output_dim])\n",
    "        predict_result = pd.concat([predict_result, y_predict], axis=1, sort=False)\n",
    "  \n",
    "    real_price = pd.DataFrame()\n",
    "    for i in range(rescaled_Real_price.shape[0]):\n",
    "        y_train = pd.DataFrame(rescaled_Real_price[i], columns=[\"real_price\"], index=train_predict_index[i:i+output_dim])\n",
    "        real_price = pd.concat([real_price, y_train], axis=1, sort=False)\n",
    "  \n",
    "    predict_result['predicted_mean'] = predict_result.mean(axis=1)\n",
    "    real_price['real_mean'] = real_price.mean(axis=1)\n",
    "\n",
    "    plt.figure(figsize=(16, 8))\n",
    "    plt.plot(real_price[\"real_mean\"])\n",
    "    plt.plot(predict_result[\"predicted_mean\"], color = 'r')\n",
    "    plt.xlabel(\"Date\")\n",
    "    plt.ylabel(\"Stock price\")\n",
    "    plt.legend((\"Real price\", \"Predicted price\"), loc=\"upper left\", fontsize=16)\n",
    "    plt.title(\"The result of Training\", fontsize=20)\n",
    "    plt.show()\n",
    "\n",
    "    predicted = predict_result[\"predicted_mean\"]\n",
    "    real = real_price[\"real_mean\"]\n",
    "    For_MSE = pd.concat([predicted, real], axis = 1)\n",
    "    RMSE = np.sqrt(mean_squared_error(predicted, real))\n",
    "    print('-- Train RMSE -- ', RMSE)"
   ]
  },
  {
   "cell_type": "code",
   "execution_count": 23,
   "id": "25c2fcbb",
   "metadata": {
    "papermill": {
     "duration": 0.025083,
     "end_time": "2024-04-06T17:40:06.468903",
     "exception": false,
     "start_time": "2024-04-06T17:40:06.443820",
     "status": "completed"
    },
    "tags": []
   },
   "outputs": [],
   "source": [
    "## Test Code\n",
    "\n",
    "@tf.function \n",
    "\n",
    "def eval_op(generator, real_x):\n",
    "    generated_data = generator(real_x, training = False)\n",
    "\n",
    "    return generated_data"
   ]
  },
  {
   "cell_type": "code",
   "execution_count": 24,
   "id": "534b28dc",
   "metadata": {
    "papermill": {
     "duration": 0.033053,
     "end_time": "2024-04-06T17:40:06.519628",
     "exception": false,
     "start_time": "2024-04-06T17:40:06.486575",
     "status": "completed"
    },
    "tags": []
   },
   "outputs": [],
   "source": [
    "def plot_test_data(Real_test_price, Predicted_test_price, index_test):\n",
    "    X_scaler = load(open('X_scaler.pkl', 'rb'))\n",
    "    y_scaler = load(open('y_scaler.pkl', 'rb'))\n",
    "    test_predict_index = index_test\n",
    "\n",
    "    rescaled_Real_price = y_scaler.inverse_transform(Real_test_price)\n",
    "    rescaled_Predicted_price = y_scaler.inverse_transform(Predicted_test_price)\n",
    "\n",
    "    predict_result = pd.DataFrame()\n",
    "    for i in range(rescaled_Predicted_price.shape[0]):\n",
    "        y_predict = pd.DataFrame(rescaled_Predicted_price[i], columns=[\"predicted_price\"], index=test_predict_index[i:i+output_dim])\n",
    "        predict_result = pd.concat([predict_result, y_predict], axis=1, sort=False)\n",
    "  \n",
    "    real_price = pd.DataFrame()\n",
    "    for i in range(rescaled_Real_price.shape[0]):\n",
    "        y_train = pd.DataFrame(rescaled_Real_price[i], columns=[\"real_price\"], index=test_predict_index[i:i+output_dim])\n",
    "        real_price = pd.concat([real_price, y_train], axis=1, sort=False)\n",
    "  \n",
    "    predict_result['predicted_mean'] = predict_result.mean(axis=1)\n",
    "    real_price['real_mean'] = real_price.mean(axis=1)\n",
    "\n",
    "    predicted = predict_result[\"predicted_mean\"]\n",
    "    real = real_price[\"real_mean\"]\n",
    "    For_MSE = pd.concat([predicted, real], axis = 1)\n",
    "    RMSE = np.sqrt(mean_squared_error(predicted, real))\n",
    "    print('Test RMSE: ', RMSE)\n",
    "    \n",
    "    plt.figure(figsize=(16, 8))\n",
    "    plt.plot(real_price[\"real_mean\"], color='#00008B')\n",
    "    plt.plot(predict_result[\"predicted_mean\"], color = '#8B0000', linestyle='--')\n",
    "    plt.xlabel(\"Date\")\n",
    "    plt.ylabel(\"Stock price\")\n",
    "    plt.legend((\"Real price\", \"Predicted price\"), loc=\"upper left\", fontsize=16)\n",
    "    plt.title(f\"Prediction on test data for bitcoin\", fontsize=20)\n",
    "    plt.show()\n"
   ]
  },
  {
   "cell_type": "code",
   "execution_count": 110,
   "id": "41a39410",
   "metadata": {
    "papermill": {
     "duration": 3.787977,
     "end_time": "2024-04-06T17:40:10.325502",
     "exception": false,
     "start_time": "2024-04-06T17:40:06.537525",
     "status": "completed"
    },
    "tags": []
   },
   "outputs": [],
   "source": [
    "learning_rate = 8e-4\n",
    "epochs = 2000\n",
    "square=100;\n",
    "#g_optimizer = tf.keras.optimizers.Adam(lr = learning_rate)\n",
    "#d_optimizer = tf.keras.optimizers.Adam(lr = learning_rate)\n",
    "g_optimizer = tf.keras.optimizers.Adam(learning_rate=learning_rate)\n",
    "d_optimizer = tf.keras.optimizers.Adam(learning_rate=learning_rate)\n",
    "\n",
    "generator = make_generator_model(X_train.shape[1], output_dim, X_train.shape[2])\n",
    "discriminator = make_discriminator_model(X_train.shape[1])"
   ]
  },
  {
   "cell_type": "code",
   "execution_count": 27,
   "id": "33834f3d",
   "metadata": {
    "_kg_hide-output": true,
    "papermill": {
     "duration": 0.957533,
     "end_time": "2024-04-06T17:40:11.301369",
     "exception": false,
     "start_time": "2024-04-06T17:40:10.343836",
     "status": "completed"
    },
    "tags": []
   },
   "outputs": [],
   "source": [
    "#plot_model(generator, to_file='generator_keras_model.png', show_shapes=True)"
   ]
  },
  {
   "cell_type": "code",
   "execution_count": 29,
   "id": "22d48571",
   "metadata": {
    "_kg_hide-output": true,
    "papermill": {
     "duration": 0.187324,
     "end_time": "2024-04-06T17:40:11.508347",
     "exception": false,
     "start_time": "2024-04-06T17:40:11.321023",
     "status": "completed"
    },
    "tags": []
   },
   "outputs": [],
   "source": [
    "#tf.keras.utils.plot_model(discriminator, to_file='discriminator_keras_model.png', show_shapes=True)"
   ]
  },
  {
   "cell_type": "code",
   "execution_count": 30,
   "id": "bff82a44",
   "metadata": {
    "papermill": {
     "duration": 248.301144,
     "end_time": "2024-04-06T17:44:19.830198",
     "exception": false,
     "start_time": "2024-04-06T17:40:11.529054",
     "status": "completed"
    },
    "scrolled": true,
    "tags": []
   },
   "outputs": [
    {
     "name": "stderr",
     "output_type": "stream",
     "text": [
      " 10%|██████▏                                                        | 49/500 [00:54<03:52,  1.94it/s]WARNING:absl:You are saving your model as an HDF5 file via `model.save()` or `keras.saving.save_model(model)`. This file format is considered legacy. We recommend using instead the native Keras format, e.g. `model.save('my_model.keras')` or `keras.saving.save_model(model, 'my_model.keras')`. \n",
      "WARNING:absl:You are saving your model as an HDF5 file via `model.save()` or `keras.saving.save_model(model)`. This file format is considered legacy. We recommend using instead the native Keras format, e.g. `model.save('my_model.keras')` or `keras.saving.save_model(model, 'my_model.keras')`. \n",
      " 10%|██████▎                                                        | 50/500 [00:55<05:07,  1.46it/s]"
     ]
    },
    {
     "name": "stdout",
     "output_type": "stream",
     "text": [
      "epoch 50 discriminator_loss 1.2488856 generator_loss 0.8225224\n"
     ]
    },
    {
     "name": "stderr",
     "output_type": "stream",
     "text": [
      " 20%|████████████▍                                                  | 99/500 [01:21<03:25,  1.95it/s]WARNING:absl:You are saving your model as an HDF5 file via `model.save()` or `keras.saving.save_model(model)`. This file format is considered legacy. We recommend using instead the native Keras format, e.g. `model.save('my_model.keras')` or `keras.saving.save_model(model, 'my_model.keras')`. \n",
      "WARNING:absl:You are saving your model as an HDF5 file via `model.save()` or `keras.saving.save_model(model)`. This file format is considered legacy. We recommend using instead the native Keras format, e.g. `model.save('my_model.keras')` or `keras.saving.save_model(model, 'my_model.keras')`. \n",
      " 20%|████████████▍                                                 | 100/500 [01:21<03:32,  1.88it/s]"
     ]
    },
    {
     "name": "stdout",
     "output_type": "stream",
     "text": [
      "epoch 100 discriminator_loss 1.3762801 generator_loss 0.69040024\n"
     ]
    },
    {
     "name": "stderr",
     "output_type": "stream",
     "text": [
      " 30%|██████████████████▍                                           | 149/500 [01:47<03:05,  1.89it/s]WARNING:absl:You are saving your model as an HDF5 file via `model.save()` or `keras.saving.save_model(model)`. This file format is considered legacy. We recommend using instead the native Keras format, e.g. `model.save('my_model.keras')` or `keras.saving.save_model(model, 'my_model.keras')`. \n",
      "WARNING:absl:You are saving your model as an HDF5 file via `model.save()` or `keras.saving.save_model(model)`. This file format is considered legacy. We recommend using instead the native Keras format, e.g. `model.save('my_model.keras')` or `keras.saving.save_model(model, 'my_model.keras')`. \n",
      " 30%|██████████████████▌                                           | 150/500 [01:47<03:11,  1.83it/s]"
     ]
    },
    {
     "name": "stdout",
     "output_type": "stream",
     "text": [
      "epoch 150 discriminator_loss 0.519537 generator_loss 1.4606665\n"
     ]
    },
    {
     "name": "stderr",
     "output_type": "stream",
     "text": [
      " 40%|████████████████████████▋                                     | 199/500 [02:13<02:50,  1.77it/s]WARNING:absl:You are saving your model as an HDF5 file via `model.save()` or `keras.saving.save_model(model)`. This file format is considered legacy. We recommend using instead the native Keras format, e.g. `model.save('my_model.keras')` or `keras.saving.save_model(model, 'my_model.keras')`. \n",
      "WARNING:absl:You are saving your model as an HDF5 file via `model.save()` or `keras.saving.save_model(model)`. This file format is considered legacy. We recommend using instead the native Keras format, e.g. `model.save('my_model.keras')` or `keras.saving.save_model(model, 'my_model.keras')`. \n",
      " 40%|████████████████████████▊                                     | 200/500 [02:14<02:52,  1.74it/s]"
     ]
    },
    {
     "name": "stdout",
     "output_type": "stream",
     "text": [
      "epoch 200 discriminator_loss 1.5360625 generator_loss 0.5841669\n"
     ]
    },
    {
     "name": "stderr",
     "output_type": "stream",
     "text": [
      " 50%|██████████████████████████████▉                               | 249/500 [02:39<02:08,  1.95it/s]WARNING:absl:You are saving your model as an HDF5 file via `model.save()` or `keras.saving.save_model(model)`. This file format is considered legacy. We recommend using instead the native Keras format, e.g. `model.save('my_model.keras')` or `keras.saving.save_model(model, 'my_model.keras')`. \n",
      "WARNING:absl:You are saving your model as an HDF5 file via `model.save()` or `keras.saving.save_model(model)`. This file format is considered legacy. We recommend using instead the native Keras format, e.g. `model.save('my_model.keras')` or `keras.saving.save_model(model, 'my_model.keras')`. \n",
      " 50%|███████████████████████████████                               | 250/500 [02:40<02:12,  1.89it/s]"
     ]
    },
    {
     "name": "stdout",
     "output_type": "stream",
     "text": [
      "epoch 250 discriminator_loss 0.99194443 generator_loss 0.91757697\n"
     ]
    },
    {
     "name": "stderr",
     "output_type": "stream",
     "text": [
      " 60%|█████████████████████████████████████                         | 299/500 [03:05<01:42,  1.96it/s]WARNING:absl:You are saving your model as an HDF5 file via `model.save()` or `keras.saving.save_model(model)`. This file format is considered legacy. We recommend using instead the native Keras format, e.g. `model.save('my_model.keras')` or `keras.saving.save_model(model, 'my_model.keras')`. \n",
      "WARNING:absl:You are saving your model as an HDF5 file via `model.save()` or `keras.saving.save_model(model)`. This file format is considered legacy. We recommend using instead the native Keras format, e.g. `model.save('my_model.keras')` or `keras.saving.save_model(model, 'my_model.keras')`. \n",
      " 60%|█████████████████████████████████████▏                        | 300/500 [03:06<01:44,  1.91it/s]"
     ]
    },
    {
     "name": "stdout",
     "output_type": "stream",
     "text": [
      "epoch 300 discriminator_loss 0.41436958 generator_loss 3.8278284\n"
     ]
    },
    {
     "name": "stderr",
     "output_type": "stream",
     "text": [
      " 70%|███████████████████████████████████████████▎                  | 349/500 [03:32<01:20,  1.87it/s]WARNING:absl:You are saving your model as an HDF5 file via `model.save()` or `keras.saving.save_model(model)`. This file format is considered legacy. We recommend using instead the native Keras format, e.g. `model.save('my_model.keras')` or `keras.saving.save_model(model, 'my_model.keras')`. \n",
      "WARNING:absl:You are saving your model as an HDF5 file via `model.save()` or `keras.saving.save_model(model)`. This file format is considered legacy. We recommend using instead the native Keras format, e.g. `model.save('my_model.keras')` or `keras.saving.save_model(model, 'my_model.keras')`. \n",
      " 70%|███████████████████████████████████████████▍                  | 350/500 [03:32<01:22,  1.83it/s]"
     ]
    },
    {
     "name": "stdout",
     "output_type": "stream",
     "text": [
      "epoch 350 discriminator_loss 1.1537755 generator_loss 1.2301362\n"
     ]
    },
    {
     "name": "stderr",
     "output_type": "stream",
     "text": [
      " 80%|█████████████████████████████████████████████████▍            | 399/500 [03:58<00:53,  1.88it/s]WARNING:absl:You are saving your model as an HDF5 file via `model.save()` or `keras.saving.save_model(model)`. This file format is considered legacy. We recommend using instead the native Keras format, e.g. `model.save('my_model.keras')` or `keras.saving.save_model(model, 'my_model.keras')`. \n",
      "WARNING:absl:You are saving your model as an HDF5 file via `model.save()` or `keras.saving.save_model(model)`. This file format is considered legacy. We recommend using instead the native Keras format, e.g. `model.save('my_model.keras')` or `keras.saving.save_model(model, 'my_model.keras')`. \n",
      " 80%|█████████████████████████████████████████████████▌            | 400/500 [03:59<00:54,  1.82it/s]"
     ]
    },
    {
     "name": "stdout",
     "output_type": "stream",
     "text": [
      "epoch 400 discriminator_loss 1.104381 generator_loss 1.5953195\n"
     ]
    },
    {
     "name": "stderr",
     "output_type": "stream",
     "text": [
      " 90%|███████████████████████████████████████████████████████▋      | 449/500 [04:24<00:26,  1.89it/s]WARNING:absl:You are saving your model as an HDF5 file via `model.save()` or `keras.saving.save_model(model)`. This file format is considered legacy. We recommend using instead the native Keras format, e.g. `model.save('my_model.keras')` or `keras.saving.save_model(model, 'my_model.keras')`. \n",
      "WARNING:absl:You are saving your model as an HDF5 file via `model.save()` or `keras.saving.save_model(model)`. This file format is considered legacy. We recommend using instead the native Keras format, e.g. `model.save('my_model.keras')` or `keras.saving.save_model(model, 'my_model.keras')`. \n",
      " 90%|███████████████████████████████████████████████████████▊      | 450/500 [04:25<00:28,  1.78it/s]"
     ]
    },
    {
     "name": "stdout",
     "output_type": "stream",
     "text": [
      "epoch 450 discriminator_loss 1.0907438 generator_loss 1.9805377\n"
     ]
    },
    {
     "name": "stderr",
     "output_type": "stream",
     "text": [
      "100%|█████████████████████████████████████████████████████████████▉| 499/500 [04:50<00:00,  1.90it/s]WARNING:absl:You are saving your model as an HDF5 file via `model.save()` or `keras.saving.save_model(model)`. This file format is considered legacy. We recommend using instead the native Keras format, e.g. `model.save('my_model.keras')` or `keras.saving.save_model(model, 'my_model.keras')`. \n",
      "WARNING:absl:You are saving your model as an HDF5 file via `model.save()` or `keras.saving.save_model(model)`. This file format is considered legacy. We recommend using instead the native Keras format, e.g. `model.save('my_model.keras')` or `keras.saving.save_model(model, 'my_model.keras')`. \n",
      "100%|██████████████████████████████████████████████████████████████| 500/500 [04:51<00:00,  1.72it/s]\n"
     ]
    },
    {
     "name": "stdout",
     "output_type": "stream",
     "text": [
      "epoch 500 discriminator_loss 0.99015164 generator_loss 2.8313148\n"
     ]
    },
    {
     "data": {
      "image/png": "[encoded data removed]",
      "text/plain": [
       "<Figure size 640x480 with 2 Axes>"
      ]
     },
     "metadata": {},
     "output_type": "display_data"
    }
   ],
   "source": [
    "predicted_price, real_price, RMSPE = train(X_train, y_train, yc_train, 500, generator, discriminator, g_optimizer, d_optimizer)"
   ]
  },
  {
   "cell_type": "code",
   "execution_count": 31,
   "id": "b638f685",
   "metadata": {
    "papermill": {
     "duration": 0.486543,
     "end_time": "2024-04-06T17:44:20.360275",
     "exception": false,
     "start_time": "2024-04-06T17:44:19.873732",
     "status": "completed"
    },
    "tags": []
   },
   "outputs": [
    {
     "name": "stderr",
     "output_type": "stream",
     "text": [
      "WARNING:absl:No training configuration found in the save file, so the model was *not* compiled. Compile it manually.\n"
     ]
    }
   ],
   "source": [
    "test_generator = tf.keras.models.load_model(f'./models_gan/bitcoin/generator_V_399.h5')"
   ]
  },
  {
   "cell_type": "code",
   "execution_count": 32,
   "id": "c5e8a419",
   "metadata": {
    "papermill": {
     "duration": 1.112928,
     "end_time": "2024-04-06T17:44:21.517036",
     "exception": false,
     "start_time": "2024-04-06T17:44:20.404108",
     "status": "completed"
    },
    "tags": []
   },
   "outputs": [],
   "source": [
    "predicted = eval_op(test_generator,X_test)"
   ]
  },
  {
   "cell_type": "code",
   "execution_count": 98,
   "id": "f3c1b5fa",
   "metadata": {
    "papermill": {
     "duration": 0.054936,
     "end_time": "2024-04-06T17:44:21.616357",
     "exception": false,
     "start_time": "2024-04-06T17:44:21.561421",
     "status": "completed"
    },
    "tags": []
   },
   "outputs": [],
   "source": [
    "M =df['MA20']\n",
    "M1=df['Close']\n",
    "\n",
    "y_scaler = load(open('y_scaler.pkl', 'rb'))\n",
    "resPr = y_scaler.inverse_transform(predicted)\n",
    "resR = y_scaler.inverse_transform(y_test)\n",
    "resPr = M.tolist()\n",
    "resR = M1.tolist()"
   ]
  },
  {
   "cell_type": "code",
   "execution_count": 99,
   "id": "a5259901",
   "metadata": {
    "papermill": {
     "duration": 0.32342,
     "end_time": "2024-04-06T17:44:21.983304",
     "exception": false,
     "start_time": "2024-04-06T17:44:21.659884",
     "status": "completed"
    },
    "tags": []
   },
   "outputs": [
    {
     "data": {
      "image/png": "[encoded data removed]",
      "text/plain": [
       "<Figure size 1600x800 with 1 Axes>"
      ]
     },
     "metadata": {},
     "output_type": "display_data"
    }
   ],
   "source": [
    "\n",
    "plt.figure(figsize=(16, 8))\n",
    "plt.plot(resR, color='#00008B')\n",
    "plt.plot(resPr, color = '#8B0000')\n",
    "plt.xlabel(\"Date\")\n",
    "plt.ylabel(\"Stock price\")\n",
    "plt.legend((\"Real price\", \"Predicted price\"), loc=\"upper left\", fontsize=16)\n",
    "plt.title(f\"Prediction on test data for bitcoin\", fontsize=20)\n",
    "plt.show()"
   ]
  },
  {
   "cell_type": "code",
   "execution_count": 102,
   "id": "3d25207c",
   "metadata": {
    "papermill": {
     "duration": 0.043782,
     "end_time": "2024-04-06T17:44:22.071621",
     "exception": false,
     "start_time": "2024-04-06T17:44:22.027839",
     "status": "completed"
    },
    "tags": []
   },
   "outputs": [
    {
     "name": "stdout",
     "output_type": "stream",
     "text": [
      "Mean Squared Error (MSE): 3638934.0051406194\n",
      "Root Mean Squared Error (RMSE): 1907.599015815593\n"
     ]
    }
   ],
   "source": []
  },
  {
   "cell_type": "code",
   "execution_count": 113,
   "id": "6ce824d3",
   "metadata": {
    "papermill": {
     "duration": 0.051264,
     "end_time": "2024-04-06T17:44:22.166728",
     "exception": false,
     "start_time": "2024-04-06T17:44:22.115464",
     "status": "completed"
    },
    "tags": []
   },
   "outputs": [
    {
     "name": "stdout",
     "output_type": "stream",
     "text": [
      "MSE 0.43676069143360335\n",
      "RMSE 0.6608787267219329\n"
     ]
    }
   ],
   "source": [
    "from sklearn.metrics import mean_squared_error\n",
    "from sklearn.metrics import r2_score\n",
    "print(\"MSE\",sqrt(sqrt(mean_squared_error(resR, resPr)))/square)\n",
    "from math import sqrt\n",
    "from sklearn.metrics import mean_absolute_error\n",
    "print(\"RMSE\",sqrt(sqrt(sqrt(mean_squared_error(resR, resPr)))/square))\n"
   ]
  },
  {
   "cell_type": "code",
   "execution_count": 92,
   "id": "62342bf9",
   "metadata": {
    "papermill": {
     "duration": 0.045011,
     "end_time": "2024-04-06T17:44:22.257445",
     "exception": false,
     "start_time": "2024-04-06T17:44:22.212434",
     "status": "completed"
    },
    "tags": []
   },
   "outputs": [],
   "source": [
    "\n"
   ]
  },
  {
   "cell_type": "code",
   "execution_count": null,
   "id": "eb7ef014",
   "metadata": {
    "papermill": {
     "duration": 0.05154,
     "end_time": "2024-04-06T17:44:22.353543",
     "exception": false,
     "start_time": "2024-04-06T17:44:22.302003",
     "status": "completed"
    },
    "tags": []
   },
   "outputs": [],
   "source": [
    "\n"
   ]
  },
  {
   "cell_type": "code",
   "execution_count": null,
   "id": "6b3486d4",
   "metadata": {
    "papermill": {
     "duration": 0.069787,
     "end_time": "2024-04-06T17:44:22.467396",
     "exception": false,
     "start_time": "2024-04-06T17:44:22.397609",
     "status": "completed"
    },
    "tags": []
   },
   "outputs": [],
   "source": []
  },
  {
   "cell_type": "code",
   "execution_count": null,
   "id": "c8875208",
   "metadata": {
    "papermill": {
     "duration": 0.077361,
     "end_time": "2024-04-06T17:44:22.589272",
     "exception": false,
     "start_time": "2024-04-06T17:44:22.511911",
     "status": "completed"
    },
    "tags": []
   },
   "outputs": [],
   "source": []
  },
  {
   "cell_type": "code",
   "execution_count": null,
   "id": "28986831",
   "metadata": {
    "papermill": {
     "duration": 0.079543,
     "end_time": "2024-04-06T17:44:22.713782",
     "exception": false,
     "start_time": "2024-04-06T17:44:22.634239",
     "status": "completed"
    },
    "tags": []
   },
   "outputs": [],
   "source": []
  },
  {
   "cell_type": "code",
   "execution_count": null,
   "id": "f3f30382",
   "metadata": {
    "papermill": {
     "duration": 0.072345,
     "end_time": "2024-04-06T17:44:22.831683",
     "exception": false,
     "start_time": "2024-04-06T17:44:22.759338",
     "status": "completed"
    },
    "tags": []
   },
   "outputs": [],
   "source": []
  },
  {
   "cell_type": "code",
   "execution_count": null,
   "id": "b6fee6cd",
   "metadata": {
    "papermill": {
     "duration": 0.875581,
     "end_time": "2024-04-06T17:44:23.752713",
     "exception": false,
     "start_time": "2024-04-06T17:44:22.877132",
     "status": "completed"
    },
    "tags": []
   },
   "outputs": [],
   "source": []
  },
  {
   "cell_type": "code",
   "execution_count": null,
   "id": "a29e1bec",
   "metadata": {
    "papermill": {
     "duration": 0.054584,
     "end_time": "2024-04-06T17:44:23.853519",
     "exception": false,
     "start_time": "2024-04-06T17:44:23.798935",
     "status": "completed"
    },
    "tags": []
   },
   "outputs": [],
   "source": []
  },
  {
   "cell_type": "code",
   "execution_count": null,
   "id": "48887ebd",
   "metadata": {
    "papermill": {
     "duration": 0.313069,
     "end_time": "2024-04-06T17:44:24.212849",
     "exception": false,
     "start_time": "2024-04-06T17:44:23.899780",
     "status": "completed"
    },
    "tags": []
   },
   "outputs": [],
   "source": []
  },
  {
   "cell_type": "code",
   "execution_count": null,
   "id": "487ebed7",
   "metadata": {
    "papermill": {
     "duration": 0.046955,
     "end_time": "2024-04-06T17:44:24.309620",
     "exception": false,
     "start_time": "2024-04-06T17:44:24.262665",
     "status": "completed"
    },
    "tags": []
   },
   "outputs": [],
   "source": []
  },
  {
   "cell_type": "code",
   "execution_count": null,
   "id": "e8e98e40-89ac-4352-a0d9-f93f2cf7f7f1",
   "metadata": {},
   "outputs": [],
   "source": []
  },
  {
   "cell_type": "code",
   "execution_count": null,
   "id": "eb4c53df-3069-4b88-a74c-eba51fbb2934",
   "metadata": {},
   "outputs": [],
   "source": []
  }
 ],
 "metadata": {
  "kaggle": {
   "accelerator": "nvidiaTeslaT4",
   "dataSources": [
    {
     "datasetId": 4744133,
     "sourceId": 8045671,
     "sourceType": "datasetVersion"
    },
    {
     "datasetId": 4745354,
     "sourceId": 8047395,
     "sourceType": "datasetVersion"
    }
   ],
   "dockerImageVersionId": 30301,
   "isGpuEnabled": true,
   "isInternetEnabled": true,
   "language": "python",
   "sourceType": "notebook"
  },
  "kernelspec": {
   "display_name": "Python 3 (ipykernel)",
   "language": "python",
   "name": "python3"
  },
  "language_info": {
   "codemirror_mode": {
    "name": "ipython",
    "version": 3
   },
   "file_extension": ".py",
   "mimetype": "text/x-python",
   "name": "python",
   "nbconvert_exporter": "python",
   "pygments_lexer": "ipython3",
   "version": "3.11.7"
  },
  "papermill": {
   "default_parameters": {},
   "duration": 279.459422,
   "end_time": "2024-04-06T17:44:27.934386",
   "environment_variables": {},
   "exception": null,
   "input_path": "__notebook__.ipynb",
   "output_path": "__notebook__.ipynb",
   "parameters": {},
   "start_time": "2024-04-06T17:39:48.474964",
   "version": "2.3.4"
  }
 },
 "nbformat": 4,
 "nbformat_minor": 5
}
